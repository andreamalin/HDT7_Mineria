{
 "cells": [
  {
   "cell_type": "code",
   "execution_count": null,
   "metadata": {},
   "outputs": [],
   "source": [
    "import random\n",
    "import pandas as pd\n",
    "import numpy as np\n",
    "import matplotlib.pyplot as plt\n",
    "import seaborn as sns\n",
    "from scipy import stats\n",
    "import statsmodels.stats.diagnostic as diag\n",
    "from sklearn.model_selection import train_test_split\n",
    "from sklearn.preprocessing import StandardScaler\n",
    "from sklearn import metrics\n",
    "from sklearn.metrics import confusion_matrix\n",
    "from sklearn.impute import SimpleImputer\n",
    "from sklearn.pipeline import make_pipeline\n",
    "from sklearn.svm import SVC\n",
    "from sklearn.svm import SVR\n",
    "from sklearn.preprocessing import OneHotEncoder, StandardScaler\n",
    "from sklearn.impute import SimpleImputer\n",
    "from sklearn.pipeline import Pipeline\n",
    "from sklearn import set_config\n",
    "from sklearn.compose import ColumnTransformer\n",
    "from sklearn.model_selection import GridSearchCV\n",
    "\n",
    "np.warnings.filterwarnings('ignore', category=np.VisibleDeprecationWarning)"
   ]
  },
  {
   "cell_type": "code",
   "execution_count": null,
   "metadata": {},
   "outputs": [],
   "source": [
    "# Global Variables\n",
    "seed = random.seed(123)\n",
    "number_clusters = 3"
   ]
  },
  {
   "cell_type": "code",
   "execution_count": null,
   "metadata": {},
   "outputs": [],
   "source": [
    "# Variable classification\n",
    "train_data = pd.read_csv('./data/train.csv', encoding = \"ISO-8859-1\")\n",
    "test_data = pd.read_csv('./data/test.csv', encoding = \"ISO-8859-1\")\n",
    "variables = pd.read_csv('./data/variables.txt', encoding = \"ISO-8859-1\")\n",
    "quant_vars = list(variables.loc[(variables['Clasification'] == 'Cuantitativa')]['Variable'].values)\n",
    "quali_vars = list(variables.loc[(variables['Clasification'] == 'Cualitativa')]['Variable'].values)[1:]"
   ]
  },
  {
   "cell_type": "code",
   "execution_count": null,
   "metadata": {},
   "outputs": [],
   "source": [
    "def categorize(row): \n",
    "    if row['SalePrice'] > 0 and row['SalePrice'] <= 179280:\n",
    "        return 'Low'\n",
    "    elif row['SalePrice'] > 179280 and row['SalePrice'] < 326100:\n",
    "        return 'Medium'\n",
    "    else:\n",
    "        return 'Expensive'\n",
    "\n",
    "train_data['SalesCategories'] = train_data.apply(lambda row: categorize(row), axis=1)"
   ]
  },
  {
   "cell_type": "code",
   "execution_count": null,
   "metadata": {},
   "outputs": [],
   "source": [
    "copied_train_data = train_data.copy()\n",
    "copied_train_data = copied_train_data.fillna(0)\n",
    "\n",
    "target = copied_train_data.pop('SalesCategories')\n",
    "data = copied_train_data\n",
    "\n",
    "categoricas = copied_train_data[quali_vars]\n",
    "numericas = copied_train_data[quant_vars]"
   ]
  },
  {
   "cell_type": "code",
   "execution_count": null,
   "metadata": {},
   "outputs": [],
   "source": [
    "#Se transforman las colunas usando los preprocesadores\n",
    "numeric_preprocessor = Pipeline(\n",
    "    steps=[(\"imputer\", SimpleImputer(strategy=\"median\")), (\"scaler\", StandardScaler())]\n",
    ")\n",
    "\n",
    "# Se preparan los preprocesadores\n",
    "categorical_preprocessor = OneHotEncoder(handle_unknown=\"ignore\")\n",
    "\n",
    "\n",
    "preprocesador = ColumnTransformer([\n",
    "    ('one_hot_encoder', categorical_preprocessor, quali_vars),\n",
    "    ('numerico', numeric_preprocessor, quant_vars)\n",
    "],remainder=\"passthrough\")"
   ]
  },
  {
   "cell_type": "code",
   "execution_count": null,
   "metadata": {},
   "outputs": [],
   "source": [
    "for item in data:\n",
    "  if (data[item].dtype == 'object'):\n",
    "    data = data.astype({item: str})\n",
    "X_train, X_test, y_train, y_test = train_test_split(data, target,test_size=0.3,train_size=0.7, random_state=42)"
   ]
  },
  {
   "cell_type": "code",
   "execution_count": null,
   "metadata": {},
   "outputs": [],
   "source": [
    "modelo = make_pipeline(preprocesador, SVC(kernel=\"linear\"))\n",
    "modelo.fit(X_train,y_train)\n",
    "print(modelo.score(X_test, y_test)) \n",
    "X_pred = modelo.predict(X_test)\n",
    "print (\"Accuracy:\",metrics.accuracy_score(y_test, X_pred))\n",
    "print (\"Precision:\", metrics.precision_score(y_test, X_pred,average='weighted') )\n",
    "print (\"Recall: \", metrics.recall_score(y_test, X_pred,average='weighted'))\n",
    "print(confusion_matrix(X_pred, y_test))"
   ]
  },
  {
   "cell_type": "code",
   "execution_count": null,
   "metadata": {},
   "outputs": [],
   "source": [
    "modelo = make_pipeline(preprocesador, SVC(kernel=\"poly\", C=32, degree=4))\n",
    "modelo.fit(X_train,y_train)\n",
    "print(modelo.score(X_test, y_test))\n",
    "X_pred = modelo.predict(X_test)\n",
    "print (\"Accuracy:\",metrics.accuracy_score(y_test, X_pred))\n",
    "print (\"Precision:\", metrics.precision_score(y_test, X_pred,average='weighted') )\n",
    "print (\"Recall: \", metrics.recall_score(y_test, X_pred,average='weighted'))\n",
    "print(confusion_matrix(X_pred, y_test))"
   ]
  },
  {
   "cell_type": "code",
   "execution_count": null,
   "metadata": {},
   "outputs": [],
   "source": [
    "modelo = make_pipeline(preprocesador, SVC(kernel=\"rbf\", C=32, degree=2e-05))\n",
    "modelo.fit(X_train,y_train)\n",
    "print(modelo.score(X_test, y_test))\n",
    "X_pred = modelo.predict(X_test)\n",
    "print (\"Accuracy:\",metrics.accuracy_score(y_test, X_pred))\n",
    "print (\"Precision:\", metrics.precision_score(y_test, X_pred,average='weighted') )\n",
    "print (\"Recall: \", metrics.recall_score(y_test, X_pred,average='weighted'))\n",
    "print(confusion_matrix(X_pred, y_test))"
   ]
  }
 ],
 "metadata": {
  "interpreter": {
   "hash": "c33184972b48748d94ddd34e441bc25e543b9b1491b698e37ff4356c126c0090"
  },
  "kernelspec": {
   "display_name": "Python 3.10.2 64-bit",
   "language": "python",
   "name": "python3"
  },
  "language_info": {
   "codemirror_mode": {
    "name": "ipython",
    "version": 3
   },
   "file_extension": ".py",
   "mimetype": "text/x-python",
   "name": "python",
   "nbconvert_exporter": "python",
   "pygments_lexer": "ipython3",
   "version": "3.10.2"
  },
  "orig_nbformat": 4
 },
 "nbformat": 4,
 "nbformat_minor": 2
}
